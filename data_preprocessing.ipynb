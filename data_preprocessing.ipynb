{
 "cells": [
  {
   "cell_type": "code",
   "execution_count": 17,
   "metadata": {},
   "outputs": [],
   "source": [
    "import pandas as pd\n",
    "import numpy as np\n",
    "import requests\n",
    "import time"
   ]
  },
  {
   "cell_type": "code",
   "execution_count": 18,
   "metadata": {},
   "outputs": [],
   "source": [
    "apikey = \"LR691R2UFT21EU6C\""
   ]
  },
  {
   "cell_type": "code",
   "execution_count": 19,
   "metadata": {},
   "outputs": [],
   "source": [
    "companies = ['AAPL']\n",
    "indicators=['SMA', 'EMA','STOCH','RSI',\n",
    "       'ADX', 'CCI', 'AROON', 'BBANDS', 'AD', 'OBV']\n",
    "time_period_independent = ['STOCH','AD','OBV', 'MACD']\n",
    "interval=\"daily\""
   ]
  },
  {
   "cell_type": "code",
   "execution_count": 20,
   "metadata": {},
   "outputs": [],
   "source": [
    "# SMA 10, 20\n",
    "# stoch, AD, OBV"
   ]
  },
  {
   "cell_type": "code",
   "execution_count": 21,
   "metadata": {},
   "outputs": [],
   "source": [
    "# obtain csv of daily stock info\n",
    "def get_daily(company):\n",
    "    url=\"https://www.alphavantage.co/query?function=TIME_SERIES_DAILY_ADJUSTED&symbol={}&outputsize=full&apikey={}\".format(company, apikey)\n",
    "    response = requests.get(url)\n",
    "    data = response.json()['Time Series (Daily)']\n",
    "    daily = pd.DataFrame(data).T\n",
    "    daily.to_csv('./data/daily_{}.csv'.format(company), index = True)"
   ]
  },
  {
   "cell_type": "code",
   "execution_count": 22,
   "metadata": {},
   "outputs": [],
   "source": [
    "def get_indicator_data(indicator, company, interval=\"daily\",series_type=\"open\",time_period = 0):\n",
    "    if time_period == 0:\n",
    "        indicator_url = \"https://www.alphavantage.co/query?function={}&symbol={}&interval={}&series_type={}&apikey={}\".format(indicator, company, interval,series_type, apikey)\n",
    "    else:\n",
    "        indicator_url = \"https://www.alphavantage.co/query?function={}&symbol={}&interval={}&time_period={}&series_type={}&apikey={}\".format(indicator, company, interval,time_period,series_type, apikey)\n",
    "    response=requests.get(indicator_url)\n",
    "    result = response.json()\n",
    "    column = list(result.keys())\n",
    "    if len(column) > 1:\n",
    "        choice = list(result.keys())[1]\n",
    "        data = pd.DataFrame(result[choice])\n",
    "        return data\n",
    "    else:\n",
    "        print(column, indicator_url)\n",
    "        return None"
   ]
  },
  {
   "cell_type": "code",
   "execution_count": 23,
   "metadata": {},
   "outputs": [],
   "source": [
    "time.sleep(60)"
   ]
  },
  {
   "cell_type": "code",
   "execution_count": 24,
   "metadata": {},
   "outputs": [],
   "source": [
    "for company in companies:\n",
    "    get_daily(company)\n",
    "    \n",
    "    open_ind = pd.DataFrame()\n",
    "    close_ind = pd.DataFrame()\n",
    "    high_ind = pd.DataFrame()\n",
    "    low_ind = pd.DataFrame()\n",
    "    for indicator in indicators:\n",
    "        if indicator in time_period_independent:\n",
    "            open = get_indicator_data(indicator, company,interval,\"open\")\n",
    "            close = get_indicator_data(indicator, company,interval,\"close\")\n",
    "            high = get_indicator_data(indicator, company,interval,\"high\")\n",
    "            low = get_indicator_data(indicator, company,interval,\"low\")\n",
    "            open_ind = pd.concat([open_ind,open])\n",
    "            close_ind = pd.concat([close_ind,close])\n",
    "            high_ind = pd.concat([high_ind,high])\n",
    "            low_ind = pd.concat([low_ind,low])\n",
    "            time.sleep(60)\n",
    "            \n",
    "        else:\n",
    "            for time_period in [10,20]:\n",
    "                open = get_indicator_data(indicator, company,interval,\"open\",time_period)\n",
    "                close = get_indicator_data(indicator, company,interval,\"close\",time_period)\n",
    "                high = get_indicator_data(indicator, company,interval,\"high\",time_period)\n",
    "                low = get_indicator_data(indicator, company,interval,\"low\",time_period)\n",
    "            \n",
    "                open['indicator'] = (open.index+'-'+str(time_period))\n",
    "                open = open.set_index('indicator')\n",
    "                close['indicator'] = (open.index+'-'+str(time_period))\n",
    "                close = close.set_index('indicator')\n",
    "                high['indicator'] = (open.index+'-'+str(time_period))\n",
    "                high = high.set_index('indicator')\n",
    "                low['indicator'] = (open.index+'-'+str(time_period))\n",
    "                low = low.set_index('indicator')\n",
    "\n",
    "                open_ind = pd.concat([open_ind,open])\n",
    "                close_ind = pd.concat([close_ind,close])\n",
    "                high_ind = pd.concat([high_ind,high])\n",
    "                low_ind = pd.concat([low_ind,low])\n",
    "                time.sleep(60)\n",
    "\n",
    "    open_ind = open_ind.drop_duplicates().T\n",
    "    close_ind = close_ind.drop_duplicates().T\n",
    "    high_ind = high_ind.drop_duplicates().T\n",
    "    low_ind = low_ind.drop_duplicates().T\n",
    "\n",
    "    open_ind.to_csv('./data/open_ind_{}.csv'.format(company), index = False)\n",
    "    close_ind.to_csv('./data/close_ind_{}.csv'.format(company), index = False)\n",
    "    high_ind.to_csv('./data/high_ind_{}.csv'.format(company), index = False)\n",
    "    low_ind.to_csv('./data/low_ind_{}.csv'.format(company), index = False)"
   ]
  },
  {
   "cell_type": "code",
   "execution_count": null,
   "metadata": {},
   "outputs": [],
   "source": []
  },
  {
   "cell_type": "code",
   "execution_count": null,
   "metadata": {},
   "outputs": [],
   "source": []
  },
  {
   "cell_type": "code",
   "execution_count": null,
   "metadata": {},
   "outputs": [],
   "source": []
  },
  {
   "cell_type": "code",
   "execution_count": null,
   "metadata": {},
   "outputs": [],
   "source": []
  },
  {
   "cell_type": "code",
   "execution_count": null,
   "metadata": {},
   "outputs": [],
   "source": []
  },
  {
   "cell_type": "code",
   "execution_count": null,
   "metadata": {},
   "outputs": [],
   "source": []
  },
  {
   "cell_type": "code",
   "execution_count": null,
   "metadata": {},
   "outputs": [],
   "source": []
  },
  {
   "cell_type": "code",
   "execution_count": null,
   "metadata": {},
   "outputs": [],
   "source": []
  },
  {
   "cell_type": "code",
   "execution_count": null,
   "metadata": {},
   "outputs": [],
   "source": []
  },
  {
   "cell_type": "code",
   "execution_count": null,
   "metadata": {},
   "outputs": [],
   "source": []
  },
  {
   "cell_type": "code",
   "execution_count": null,
   "metadata": {},
   "outputs": [],
   "source": []
  }
 ],
 "metadata": {
  "kernelspec": {
   "display_name": "Python 3",
   "language": "python",
   "name": "python3"
  },
  "language_info": {
   "codemirror_mode": {
    "name": "ipython",
    "version": 3
   },
   "file_extension": ".py",
   "mimetype": "text/x-python",
   "name": "python",
   "nbconvert_exporter": "python",
   "pygments_lexer": "ipython3",
   "version": "3.7.9"
  }
 },
 "nbformat": 4,
 "nbformat_minor": 4
}
