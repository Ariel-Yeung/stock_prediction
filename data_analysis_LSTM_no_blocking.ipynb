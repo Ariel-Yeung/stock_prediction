{
 "cells": [
  {
   "cell_type": "code",
   "execution_count": 1,
   "metadata": {},
   "outputs": [],
   "source": [
    "import pandas as pd\n",
    "import numpy as np\n",
    "import math\n",
    "from matplotlib import pyplot as plt\n",
    "import matplotlib.dates as mdates\n",
    "from datetime import datetime\n",
    "\n",
    "from sklearn.model_selection import (TimeSeriesSplit)\n",
    "from sklearn.linear_model import (LinearRegression, BayesianRidge)\n",
    "from sklearn.metrics import (mean_squared_error)\n",
    "from sklearn.decomposition import (PCA)\n",
    "from sklearn.tree import DecisionTreeRegressor\n",
    "from sklearn.discriminant_analysis import LinearDiscriminantAnalysis as LDA\n",
    "from sklearn.naive_bayes import GaussianNB\n",
    "from sklearn.preprocessing import (MinMaxScaler, StandardScaler)\n",
    "\n",
    "from keras.models import Sequential\n",
    "from keras.layers import LSTM\n",
    "from keras.layers import Dense"
   ]
  },
  {
   "cell_type": "markdown",
   "metadata": {},
   "source": [
    "The goal of the project is to predict stock price movements and trends based on various different technical indicators for selected S&P 500 companies. \n",
    "\n",
    "* Use Linear Regression, Decision Tree, Naïve Bayes, and Neural Network models like Long Short-Term Memory (LSTM) to predict stock price based on different stock indicators using historical data.\n",
    "* Many of these models are discussed in class\n",
    "* Use k-fold cross-validation and principle component analysis (PCA) to obtain better fits\n",
    "* Test the models with different S&P 500 stocks against actual stock price\n",
    "* Pick the best model based on accuracy scores and errors like Root Mean Squared Error"
   ]
  },
  {
   "cell_type": "markdown",
   "metadata": {},
   "source": [
    "kaggle data source: https://www.kaggle.com/nikhilkohli/us-stock-market-data-60-extracted-features"
   ]
  },
  {
   "cell_type": "code",
   "execution_count": null,
   "metadata": {},
   "outputs": [],
   "source": []
  },
  {
   "cell_type": "code",
   "execution_count": null,
   "metadata": {},
   "outputs": [],
   "source": []
  },
  {
   "cell_type": "markdown",
   "metadata": {},
   "source": [
    "1. Get and preprocess data"
   ]
  },
  {
   "cell_type": "code",
   "execution_count": 2,
   "metadata": {},
   "outputs": [],
   "source": [
    "companies = ['IBM','AAPL','JNJ']\n",
    "price_types = ['open', 'close','high','low']"
   ]
  },
  {
   "cell_type": "code",
   "execution_count": 3,
   "metadata": {},
   "outputs": [],
   "source": [
    "def rename_columns(old_name):\n",
    "    if old_name[-5:] == '10-10':\n",
    "        new_name = old_name[:-5] + '10' \n",
    "    elif old_name[-5:] == '20-20':\n",
    "        new_name = old_name[:-5] + '20' \n",
    "    else:\n",
    "        new_name = old_name\n",
    "    return new_name\n",
    "\n",
    "def get_data(company):\n",
    "    daily = pd.read_csv('./data/daily_{}.csv'.format(company))\n",
    "    open_ind = pd.read_csv('./data/open_ind_{}.csv'.format(company))\n",
    "    close_ind = pd.read_csv('./data/close_ind_{}.csv'.format(company))\n",
    "    high_ind = pd.read_csv('./data/high_ind_{}.csv'.format(company))\n",
    "    low_ind = pd.read_csv('./data/low_ind_{}.csv'.format(company))\n",
    "\n",
    "    open_ind.rename(columns=rename_columns, inplace=True)\n",
    "    close_ind.rename(columns=rename_columns, inplace=True)\n",
    "    high_ind.rename(columns=rename_columns, inplace=True)\n",
    "    low_ind.rename(columns=rename_columns, inplace=True)\n",
    "    \n",
    "    return daily, open_ind, close_ind, high_ind, low_ind"
   ]
  },
  {
   "cell_type": "code",
   "execution_count": 4,
   "metadata": {},
   "outputs": [],
   "source": [
    "def get_process_data(company):\n",
    "    data = get_data(company) #(daily, open_ind, close_ind, high_ind, low_ind)\n",
    "    X_list = []\n",
    "    y_list = []\n",
    "    for i in range(len(price_types)):\n",
    "        combined = pd.concat([data[0],data[i+1]],axis=1)\n",
    "        combined = combined[combined.isnull().any(axis=1)==False] # drop any columns that has NA, some indicators do not go further back, should start around the year 2000\n",
    "        combined.rename({'Unnamed: 0': 'Date','1. open':'open', '2. high': 'high', '3. low': 'low', '4. close': 'close','6. volume': 'volume', '7. dividend amount': 'dividend'}, axis='columns',inplace=True)\n",
    "        combined.drop('5. adjusted close',axis=1, inplace=True)\n",
    "        combined.drop('8. split coefficient',axis=1, inplace=True)\n",
    "        combined.set_index('Date',inplace=True)\n",
    "        combined = combined.iloc[::-1]\n",
    "        \n",
    "        X = combined.iloc[:,4:]\n",
    "        X_list.append(X)\n",
    "        y = combined[[price_types[i]]]\n",
    "        y_list.append(y)\n",
    "        \n",
    "    return X_list,y_list"
   ]
  },
  {
   "cell_type": "code",
   "execution_count": 5,
   "metadata": {
    "scrolled": true
   },
   "outputs": [],
   "source": [
    "X_list,y_list = get_process_data(\"IBM\")"
   ]
  },
  {
   "cell_type": "markdown",
   "metadata": {},
   "source": [
    "2. Time Series K Folds\n",
    ", and\n",
    "3. Standardize the Data using Training Set"
   ]
  },
  {
   "cell_type": "code",
   "execution_count": 6,
   "metadata": {},
   "outputs": [],
   "source": [
    "def standardize_scale(dif_scaler, X_train, X_test, y_train, y_test):\n",
    "    scaler_X=dif_scaler\n",
    "    X_train_standardize = pd.DataFrame(scaler_X.fit_transform(X_train), columns=X_train.columns, index=X_train.index)\n",
    "    X_test_standardize = pd.DataFrame(scaler_X.transform(X_test),  columns=X_test.columns, index=X_test.index)\n",
    "    \n",
    "    scaler_Y=dif_scaler\n",
    "    y_train_standardize = pd.DataFrame(scaler_Y.fit_transform(y_train), columns=y_train.columns, index=y_train.index)\n",
    "    y_test_standardize = pd.DataFrame(scaler_Y.transform(y_test), columns=y_test.columns, index=y_test.index)\n",
    "\n",
    "    X_train_standardize.insert(0,'bias',1)\n",
    "    X_test_standardize.insert(0,'bias',1)\n",
    "    \n",
    "    return [X_train_standardize, X_test_standardize, y_train_standardize, y_test_standardize], [scaler_X, scaler_Y]"
   ]
  },
  {
   "cell_type": "code",
   "execution_count": 7,
   "metadata": {},
   "outputs": [],
   "source": [
    "# perform PCA to reduce dimension so reduced features can explain 95% of variance\n",
    "def perform_PCA(X_train, X_test, threshold=0.95):\n",
    "    pca = PCA(n_components=threshold)\n",
    "    pca.fit(X_train)\n",
    "    reduced_X_train = pca.transform(X_train)\n",
    "    reduced_X_test = pca.transform(X_test)\n",
    "    return pd.DataFrame(reduced_X_train, index=X_train.index), pd.DataFrame(reduced_X_test, index=X_test.index)"
   ]
  },
  {
   "cell_type": "code",
   "execution_count": 8,
   "metadata": {},
   "outputs": [],
   "source": [
    "# if n_steps=5, use 1,2,3,4,5th day indicator data to predict 6th day prices\n",
    "def reshape_for_LTSM(X, y, n_steps=5):\n",
    "    X_result = []\n",
    "    s = X.shape[0] - n_steps\n",
    "    for i in range(s):\n",
    "        X_result.append(X.iloc[i:n_steps+i].values)  #2d array n_features x n_steps\n",
    "    \n",
    "    y_result = y.iloc[n_steps:,:]\n",
    "    return np.array(X_result), y_result"
   ]
  },
  {
   "cell_type": "code",
   "execution_count": 9,
   "metadata": {},
   "outputs": [],
   "source": [
    "def apply_LTSM(X_train, X_test, y_train, y_test, scaler, n_steps=5):\n",
    "    X_train,y_train = reshape_for_LTSM(X_train, y_train, n_steps)\n",
    "    X_test,y_test = reshape_for_LTSM(X_test, y_test)\n",
    "#     print(X_train.shape)\n",
    "    model = Sequential()\n",
    "    model.add(LSTM(50, activation='relu', input_shape=(n_steps, X_train.shape[2])))\n",
    "    model.add(Dense(1))\n",
    "    model.compile(optimizer='adam', loss='mse')\n",
    "    \n",
    "    model.fit(X_train, y_train, epochs=30, verbose=0)\n",
    "    y_predict = model.predict(X_test, verbose=0)\n",
    "    \n",
    "    y_test_inverse = scaler.inverse_transform(y_test)\n",
    "    y_predict_inverse = scaler.inverse_transform(y_predict)\n",
    "    \n",
    "    return mean_squared_error(y_test_inverse, y_predict_inverse, squared=False), pd.DataFrame(y_predict_inverse, index = y_test.index), y_test"
   ]
  },
  {
   "cell_type": "code",
   "execution_count": 10,
   "metadata": {
    "scrolled": true
   },
   "outputs": [],
   "source": [
    "def implement_LSTM(X_list,y_list,PCA=True, k_folds=10, n_steps=5):\n",
    "    ts_kfold = TimeSeriesSplit(k_folds)\n",
    "    standardized_all_splits_by_price_type = []\n",
    "    min_max_scaler_all_splits_by_price_type = []\n",
    "    standardized_scalers_list = []\n",
    "    minmax_scalers_list = []\n",
    "    \n",
    "    LSTM_rmse = pd.DataFrame()\n",
    "    LSTM_prediction = []\n",
    "    X_train_lists = []\n",
    "    y_test_lists = []\n",
    "    for index in range(len(X_list)): #open,close,high,low\n",
    "        X=X_list[index]\n",
    "        y=y_list[index]\n",
    "        standardized_splits_by_price_type = []\n",
    "        min_max_scaler_splits_by_price_type = []\n",
    "        \n",
    "        y_test_list = []\n",
    "        X_train_list = []\n",
    "        y_predict_list = []\n",
    "        rmse_list = []\n",
    "        \n",
    "        standardized_scalers = []\n",
    "        minmax_scalers = []\n",
    "        start = 0\n",
    "        each_fold_size = X.shape[0]//k_folds\n",
    "        X_train_list = []\n",
    "        for train_index, test_index in ts_kfold.split(X):\n",
    "            X_train, X_test = X.iloc[train_index, :], X.iloc[test_index,:]\n",
    "            y_train, y_test = y.iloc[train_index], y.iloc[test_index]\n",
    "        \n",
    "#         for i in range(k_folds):\n",
    "            \n",
    "#             # blocking time series split\n",
    "#             if i == 0:\n",
    "#                 fold_size = X.shape[0]%k_folds + each_fold_size\n",
    "#             else:\n",
    "#                 fold_size = each_fold_size\n",
    "#             training_size = math.ceil(fold_size*0.75)\n",
    "\n",
    "#             X_train, X_test = X.iloc[start:start+training_size,:], X.iloc[start+training_size:start+fold_size, :]\n",
    "#             y_train, y_test = y.iloc[start:start+training_size,:], y.iloc[start+training_size:start+fold_size, :]\n",
    "#             start += fold_size\n",
    "            \n",
    "            min_max_data, scalers = standardize_scale(MinMaxScaler(feature_range=(0,1)), X_train, X_test, y_train, y_test)\n",
    "            X_train, X_test, y_train, y_test = min_max_data\n",
    "            if PCA:\n",
    "                X_train, X_test = perform_PCA(X_train, X_test)\n",
    "            min_max_scaler_splits_by_price_type.append([X_train, X_test, y_train, y_test])\n",
    "            minmax_scalers.append(scalers)  # one for X and one for Y\n",
    "            \n",
    "            rmse, y_predict, y_test = apply_LTSM(X_train, X_test, y_train, y_test, scalers[1], n_steps)\n",
    "#             y_predict = pd.DataFrame(y_predict, index = y_test.iloc[n_splits:,:].index)\n",
    "            rmse_list.append(rmse)\n",
    "            y_predict_list.append(y_predict)\n",
    "            X_train_list.append(X_train)\n",
    "            y_test_list.append(y_test)\n",
    "#             y_test_list.append(y_test.iloc[n_splits:,:])\n",
    "            \n",
    "        min_max_scaler_all_splits_by_price_type.append(min_max_scaler_splits_by_price_type)\n",
    "        minmax_scalers_list.append(minmax_scalers)\n",
    "        \n",
    "        LSTM_rmse[price_types[index]] = rmse_list\n",
    "        LSTM_prediction.append(y_predict_list)\n",
    "        X_train_lists.append(X_train_list)\n",
    "        y_test_lists.append(y_test_list)\n",
    "    return LSTM_rmse, LSTM_prediction, X_train_lists, y_test_lists"
   ]
  },
  {
   "cell_type": "code",
   "execution_count": 11,
   "metadata": {},
   "outputs": [],
   "source": [
    "k_folds=10"
   ]
  },
  {
   "cell_type": "code",
   "execution_count": 12,
   "metadata": {},
   "outputs": [],
   "source": [
    "def prepare_to_plot(prediction, X_train_lists, y_list, price_type, k_fold_idx = k_folds-1):\n",
    "    price_type_idx = price_types.index(price_type)\n",
    "\n",
    "    y_predict = prediction[price_type_idx][k_fold_idx]\n",
    "    predict_idx = prediction[price_type_idx][k_fold_idx].index\n",
    "    y_actual = y_list[price_type_idx].loc[predict_idx]\n",
    "\n",
    "    train_idx = X_train_lists[price_type_idx][k_fold_idx].index\n",
    "    y_before = y_list[price_type_idx].loc[train_idx]\n",
    "    \n",
    "    y_before.index = pd.to_datetime(y_before.index, format=\"%Y-%m-%d\")\n",
    "    y_actual.index = pd.to_datetime(y_actual.index, format=\"%Y-%m-%d\")\n",
    "    y_predict.index = pd.to_datetime(y_predict.index, format=\"%Y-%m-%d\")\n",
    "    \n",
    "    return y_before, y_actual, y_predict"
   ]
  },
  {
   "cell_type": "code",
   "execution_count": 13,
   "metadata": {},
   "outputs": [],
   "source": [
    "def plot(prediction, X_train_lists, y_list, company, price_type, model_type, k_fold_idx):\n",
    "    y_before, y_actual, y_predict = prepare_to_plot(prediction, X_train_lists, y_list, price_type, k_fold_idx)\n",
    "    \n",
    "    fig, ax = plt.subplots()\n",
    "\n",
    "    plt.plot(y_before)\n",
    "    plt.plot(y_predict)\n",
    "    plt.plot(y_actual)\n",
    "\n",
    "    locator = mdates.AutoDateLocator(maxticks=10)\n",
    "    formatter = mdates.ConciseDateFormatter(locator)\n",
    "    ax.xaxis.set_major_locator(locator)\n",
    "    ax.xaxis.set_major_formatter(formatter)\n",
    "\n",
    "    plt.title(\"Stock {} Price forecast for {} using {} with k-folds cross validation without blocking\".format(price_type, company, model_type))\n",
    "\n",
    "    plt.show()\n",
    "    \n",
    "    fig.savefig('./image/{}_{}_price_forcast_using_{}_k_fold_without_blocking.png'.format(company, price_type, model_type))"
   ]
  },
  {
   "cell_type": "code",
   "execution_count": 14,
   "metadata": {},
   "outputs": [],
   "source": [
    "# main code\n",
    "def LSTM_prediction(companies, price_types, k_folds = 10, n_steps = 5, PCA=False):\n",
    "    all_rmse = dict()\n",
    "    all_prediction = dict()\n",
    "    for company in companies:\n",
    "        X_list,y_list = get_process_data(company)\n",
    "        LSTM_rmse, LSTM_prediction, X_train_lists, y_test_lists  = implement_LSTM(X_list,y_list,PCA=PCA, k_folds=k_folds, n_steps=n_steps)\n",
    "        all_rmse[company] = LSTM_rmse\n",
    "        all_prediction[company] = LSTM_prediction\n",
    "    return all_rmse, all_prediction"
   ]
  },
  {
   "cell_type": "code",
   "execution_count": 15,
   "metadata": {},
   "outputs": [],
   "source": [
    "price_type = \"open\""
   ]
  },
  {
   "cell_type": "code",
   "execution_count": 16,
   "metadata": {
    "scrolled": false
   },
   "outputs": [],
   "source": [
    "all_rmse_no_PCA, all_prediction_no_PCA = LSTM_prediction(companies, price_type)"
   ]
  },
  {
   "cell_type": "code",
   "execution_count": 17,
   "metadata": {},
   "outputs": [],
   "source": [
    "all_rmse_PCA, all_prediction_PCA = LSTM_prediction(companies, price_type, PCA=True)"
   ]
  },
  {
   "cell_type": "code",
   "execution_count": 18,
   "metadata": {
    "scrolled": true
   },
   "outputs": [],
   "source": [
    "all_rmse_PCA['IBM'][['open']].to_csv('./temp/LSTM_no_blocking_rmse.csv')"
   ]
  },
  {
   "cell_type": "code",
   "execution_count": 19,
   "metadata": {
    "scrolled": true
   },
   "outputs": [
    {
     "ename": "NameError",
     "evalue": "name 'regression_prediction' is not defined",
     "output_type": "error",
     "traceback": [
      "\u001b[1;31m---------------------------------------------------------------------------\u001b[0m",
      "\u001b[1;31mNameError\u001b[0m                                 Traceback (most recent call last)",
      "\u001b[1;32m<ipython-input-19-6e7129e53a42>\u001b[0m in \u001b[0;36m<module>\u001b[1;34m\u001b[0m\n\u001b[0;32m      1\u001b[0m \u001b[1;32mfor\u001b[0m \u001b[0mcompany\u001b[0m \u001b[1;32min\u001b[0m \u001b[0mcompanies\u001b[0m\u001b[1;33m:\u001b[0m\u001b[1;33m\u001b[0m\u001b[1;33m\u001b[0m\u001b[0m\n\u001b[1;32m----> 2\u001b[1;33m     \u001b[0mrmse\u001b[0m\u001b[1;33m,\u001b[0m \u001b[0mprediction\u001b[0m\u001b[1;33m,\u001b[0m \u001b[0mstandardized\u001b[0m\u001b[1;33m,\u001b[0m \u001b[0my_list\u001b[0m\u001b[1;33m,\u001b[0m \u001b[0mX_train_lists\u001b[0m \u001b[1;33m=\u001b[0m \u001b[0mregression_prediction\u001b[0m\u001b[1;33m(\u001b[0m\u001b[0mcompanies\u001b[0m\u001b[1;33m,\u001b[0m \u001b[0mprice_types\u001b[0m\u001b[1;33m,\u001b[0m \u001b[0mmodel_types\u001b[0m\u001b[1;33m,\u001b[0m \u001b[0mk_folds\u001b[0m\u001b[1;33m,\u001b[0m \u001b[0mn_steps\u001b[0m\u001b[1;33m)\u001b[0m\u001b[1;33m\u001b[0m\u001b[1;33m\u001b[0m\u001b[0m\n\u001b[0m\u001b[0;32m      3\u001b[0m     \u001b[1;32mfor\u001b[0m \u001b[0mmodel_type\u001b[0m \u001b[1;32min\u001b[0m \u001b[0mmodel_types\u001b[0m\u001b[1;33m:\u001b[0m\u001b[1;33m\u001b[0m\u001b[1;33m\u001b[0m\u001b[0m\n\u001b[0;32m      4\u001b[0m         \u001b[0mplot\u001b[0m\u001b[1;33m(\u001b[0m\u001b[0mprediction\u001b[0m\u001b[1;33m,\u001b[0m \u001b[0mX_train_lists\u001b[0m\u001b[1;33m,\u001b[0m \u001b[0my_list\u001b[0m\u001b[1;33m,\u001b[0m \u001b[0mcompany\u001b[0m\u001b[1;33m,\u001b[0m \u001b[0mprice_type\u001b[0m\u001b[1;33m,\u001b[0m \u001b[0mmodel_type\u001b[0m\u001b[1;33m,\u001b[0m \u001b[0mk_fold_idx\u001b[0m \u001b[1;33m=\u001b[0m \u001b[0mk_folds\u001b[0m\u001b[1;33m-\u001b[0m\u001b[1;36m1\u001b[0m\u001b[1;33m)\u001b[0m\u001b[1;33m\u001b[0m\u001b[1;33m\u001b[0m\u001b[0m\n",
      "\u001b[1;31mNameError\u001b[0m: name 'regression_prediction' is not defined"
     ]
    }
   ],
   "source": [
    "# for company in companies:\n",
    "#     rmse, prediction, standardized, y_list, X_train_lists = regression_prediction(companies, price_types, model_types, k_folds, n_steps)\n",
    "#     for model_type in model_types:\n",
    "#         plot(prediction, X_train_lists, y_list, company, price_type, model_type, k_fold_idx = k_folds-1)"
   ]
  },
  {
   "cell_type": "code",
   "execution_count": null,
   "metadata": {},
   "outputs": [],
   "source": [
    "pd.DataFrame(all_prediction_no_PCA).to_csv('./result/LSTM_no_blocking_prediction_no_PCA_{}.csv'.format(price_type))\n",
    "pd.DataFrame.from_records([all_rmse_no_PCA]).to_csv('./result/LSTM_no_blocking_rmse__no_PCA{}.csv'.format(price_type))"
   ]
  },
  {
   "cell_type": "code",
   "execution_count": null,
   "metadata": {
    "scrolled": false
   },
   "outputs": [],
   "source": [
    "pd.DataFrame(all_prediction_PCA).to_csv('./result/LSTM_no_blocking_prediction_PCA_{}.csv'.format(price_type))\n",
    "pd.DataFrame.from_records([all_rmse_PCA]).to_csv('./result/LSTM_no_blocking_rmse__PCA{}.csv'.format(price_type))"
   ]
  },
  {
   "cell_type": "code",
   "execution_count": null,
   "metadata": {},
   "outputs": [],
   "source": [
    "[X_train, X_test, y_train, y_test] = minMaxScaled[0][-1]"
   ]
  },
  {
   "cell_type": "code",
   "execution_count": null,
   "metadata": {
    "scrolled": true
   },
   "outputs": [],
   "source": [
    "apply_LTSM(X_train, X_test, y_train, y_test)"
   ]
  },
  {
   "cell_type": "code",
   "execution_count": null,
   "metadata": {},
   "outputs": [],
   "source": []
  }
 ],
 "metadata": {
  "kernelspec": {
   "display_name": "Python 3",
   "language": "python",
   "name": "python3"
  },
  "language_info": {
   "codemirror_mode": {
    "name": "ipython",
    "version": 3
   },
   "file_extension": ".py",
   "mimetype": "text/x-python",
   "name": "python",
   "nbconvert_exporter": "python",
   "pygments_lexer": "ipython3",
   "version": "3.7.9"
  }
 },
 "nbformat": 4,
 "nbformat_minor": 4
}
